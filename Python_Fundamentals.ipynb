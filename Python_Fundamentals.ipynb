{
  "nbformat": 4,
  "nbformat_minor": 0,
  "metadata": {
    "colab": {
      "provenance": [],
      "authorship_tag": "ABX9TyOnGX7FXH/Z01hLYRB1UefD",
      "include_colab_link": true
    },
    "kernelspec": {
      "name": "python3",
      "display_name": "Python 3"
    },
    "language_info": {
      "name": "python"
    }
  },
  "cells": [
    {
      "cell_type": "markdown",
      "metadata": {
        "id": "view-in-github",
        "colab_type": "text"
      },
      "source": [
        "<a href=\"https://colab.research.google.com/github/nprimavera/Python/blob/main/Python_Fundamentals.ipynb\" target=\"_parent\"><img src=\"https://colab.research.google.com/assets/colab-badge.svg\" alt=\"Open In Colab\"/></a>"
      ]
    },
    {
      "cell_type": "markdown",
      "source": [
        "Make sure you know:\n",
        "- variables\n",
        "- functions\n",
        "- loops\n",
        "- fundamentals of object-oriented programming\n",
        "  - classes\n",
        "  - class instances\n",
        "  - member functions\n",
        "  - member variables"
      ],
      "metadata": {
        "id": "0YzmfU9GuKny"
      }
    },
    {
      "cell_type": "code",
      "source": [
        "# variable examples"
      ],
      "metadata": {
        "id": "222ExNSSwlu_"
      },
      "execution_count": 6,
      "outputs": []
    },
    {
      "cell_type": "markdown",
      "source": [
        "**variable** - symbolic name that refers to a value; used to store and manage data in a program\n",
        "  - can be an integer, float, string, list, dictionary and more"
      ],
      "metadata": {
        "id": "b-_2sreqxAnB"
      }
    },
    {
      "cell_type": "code",
      "source": [
        "my_variable = 42\n",
        "\n",
        "# Examples of different variable assignments\n",
        "integer_variable = 10\n",
        "float_variable = 3.14\n",
        "string_variable = \"Hello, World!\"\n",
        "list_variable = [1, 2, 3]"
      ],
      "metadata": {
        "id": "_Hy3SWyfy_QC"
      },
      "execution_count": 7,
      "outputs": []
    },
    {
      "cell_type": "code",
      "source": [
        "my_variable = 42\n",
        "my_variable = \"New value\"\n",
        "my_variable"
      ],
      "metadata": {
        "colab": {
          "base_uri": "https://localhost:8080/",
          "height": 35
        },
        "id": "GaMUKLeHxGlA",
        "outputId": "1b3fc3d7-836c-4b0f-8334-280b087ad6fb"
      },
      "execution_count": 8,
      "outputs": [
        {
          "output_type": "execute_result",
          "data": {
            "text/plain": [
              "'New value'"
            ],
            "application/vnd.google.colaboratory.intrinsic+json": {
              "type": "string"
            }
          },
          "metadata": {},
          "execution_count": 8
        }
      ]
    },
    {
      "cell_type": "markdown",
      "source": [
        "**scope:**\n",
        "- The scope of a variable determines where in the code it can be accessed.\n",
        "- Variables defined within a function have local scope, while those defined outside functions have global scope."
      ],
      "metadata": {
        "id": "Ogij9Ta6yceX"
      }
    },
    {
      "cell_type": "code",
      "source": [
        "global_variable = 100       # global variable\n",
        "\n",
        "def my_function():\n",
        "    local_variable = 42     # local variable\n",
        "    print(global_variable)  # Accessing global variable\n",
        "    print(local_variable)   # Accessing local variable\n",
        "\n",
        "my_function()               # prints"
      ],
      "metadata": {
        "colab": {
          "base_uri": "https://localhost:8080/"
        },
        "id": "e3kPF8FXyPC0",
        "outputId": "54cbd7ee-2e06-4a53-ab76-370041b68f6d"
      },
      "execution_count": 9,
      "outputs": [
        {
          "output_type": "stream",
          "name": "stdout",
          "text": [
            "100\n",
            "42\n"
          ]
        }
      ]
    },
    {
      "cell_type": "code",
      "source": [
        "# function examples"
      ],
      "metadata": {
        "id": "IjLj4yolyfB7"
      },
      "execution_count": 10,
      "outputs": []
    },
    {
      "cell_type": "markdown",
      "source": [
        "**funtion** - a block of reusable code that performs a specific task\n",
        "- used to organize code\n",
        "- a function is defined using the **'def'** keyword, followed by the function name, paretheses '()', and a colon ':'\n",
        "- the function body is indented"
      ],
      "metadata": {
        "id": "vBy9brK4zCoS"
      }
    },
    {
      "cell_type": "code",
      "source": [
        "def my_function():\n",
        "    # Function body\n",
        "    print(\"Hello, this is a function!\")"
      ],
      "metadata": {
        "id": "1z0N6VNmzCEV"
      },
      "execution_count": 11,
      "outputs": []
    },
    {
      "cell_type": "code",
      "source": [
        "# Call the function\n",
        "my_function()"
      ],
      "metadata": {
        "colab": {
          "base_uri": "https://localhost:8080/"
        },
        "id": "ptW1-aqLzrww",
        "outputId": "d6e1fd9c-7fc0-4319-bd48-12206b32cf19"
      },
      "execution_count": 12,
      "outputs": [
        {
          "output_type": "stream",
          "name": "stdout",
          "text": [
            "Hello, this is a function!\n"
          ]
        }
      ]
    },
    {
      "cell_type": "markdown",
      "source": [
        "**parameters**:\n",
        "- **functions** can take parameters (inputs) to perform actions based on those inputs\n",
        "- parameters are specified within the parentheses during the function definition."
      ],
      "metadata": {
        "id": "fF1Pjda_z2hD"
      }
    },
    {
      "cell_type": "code",
      "source": [
        "def greet(name): # greet function with the parameter 'name'\n",
        "    print(\"Hello, \" + name + \"!\")\n",
        "\n",
        "greet(\"Alice\")   # Calling the function with the parameter (Alice)"
      ],
      "metadata": {
        "colab": {
          "base_uri": "https://localhost:8080/"
        },
        "id": "UNzKEfWbz3EX",
        "outputId": "63a60cd8-8556-4333-f1c3-3206df7f3add"
      },
      "execution_count": 13,
      "outputs": [
        {
          "output_type": "stream",
          "name": "stdout",
          "text": [
            "Hello, Alice!\n"
          ]
        }
      ]
    },
    {
      "cell_type": "markdown",
      "source": [
        "**return statements**:\n",
        "- functions can return a value using the return statement.\n",
        "- the returned value can be assigned to a variable or used directly."
      ],
      "metadata": {
        "id": "nI6bpLqn0A3I"
      }
    },
    {
      "cell_type": "code",
      "source": [
        "def add_numbers(a, b):  # add numbers function with parameters a and b\n",
        "    return a + b        # function is returning the addition of a and b\n",
        "\n",
        "result = add_numbers(3, 4)  # setting result equal to the add numbers function with the parameters a and b\n",
        "print(result)  # Output: 7"
      ],
      "metadata": {
        "colab": {
          "base_uri": "https://localhost:8080/"
        },
        "id": "_MhmVcVcz788",
        "outputId": "464445e8-fb63-4127-9b20-b9bf77ac3965"
      },
      "execution_count": 14,
      "outputs": [
        {
          "output_type": "stream",
          "name": "stdout",
          "text": [
            "7\n"
          ]
        }
      ]
    },
    {
      "cell_type": "markdown",
      "source": [
        "**default arguments:**\n",
        "- you can provide default values for function parameters.\n",
        "- if a value is not specified during the function call, the default value is used."
      ],
      "metadata": {
        "id": "SQgXajyz0hai"
      }
    },
    {
      "cell_type": "code",
      "source": [
        "def greet(name=\"Guest\"):             # greet function with parameter 'name' and the default value \"Guest\"\n",
        "    print(\"Hello, \" + name + \"!\")\n",
        "\n",
        "greet()          # Output: Hello, Guest!\n",
        "greet(\"Alice\")   # Output: Hello, Alice!"
      ],
      "metadata": {
        "colab": {
          "base_uri": "https://localhost:8080/"
        },
        "id": "feRyldPV0ErP",
        "outputId": "6635da10-bd15-4ff3-90d2-62bc26744369"
      },
      "execution_count": 15,
      "outputs": [
        {
          "output_type": "stream",
          "name": "stdout",
          "text": [
            "Hello, Guest!\n",
            "Hello, Alice!\n"
          ]
        }
      ]
    },
    {
      "cell_type": "markdown",
      "source": [
        "**docstrings:**\n",
        "- it is a good practice to include documentation strings (docstrings) in your functions to describe their purpose, parameters, and return values."
      ],
      "metadata": {
        "id": "x_qdY92H0wdD"
      }
    },
    {
      "cell_type": "code",
      "source": [
        "def multiply(a, b):    # multiply function with parameters a and b\n",
        "    \"\"\"\n",
        "    Multiply two numbers.\n",
        "\n",
        "    Parameters:\n",
        "    - a (int): The first number.\n",
        "    - b (int): The second number.\n",
        "\n",
        "    Returns:\n",
        "    int: The product of a and b.\n",
        "    \"\"\"\n",
        "    return a * b"
      ],
      "metadata": {
        "id": "K1uFSoq30l2m"
      },
      "execution_count": 16,
      "outputs": []
    },
    {
      "cell_type": "markdown",
      "source": [
        "**scope:**\n",
        "- variables defined within a function have local scope, meaning they are only accessible within that function\n",
        "- variables outside the function have global scope."
      ],
      "metadata": {
        "id": "STXnooIV0veh"
      }
    },
    {
      "cell_type": "code",
      "source": [
        "# repeated from above\n",
        "global_variable = 10\n",
        "\n",
        "def my_function():\n",
        "    local_variable = 5\n",
        "    print(global_variable)  # Accessing global variable\n",
        "    print(local_variable)   # Accessing local variable\n",
        "\n",
        "my_function()"
      ],
      "metadata": {
        "id": "WmIP28ZM0-bs",
        "colab": {
          "base_uri": "https://localhost:8080/"
        },
        "outputId": "335c1aa7-731a-4c5e-97e5-e4e12697e04f"
      },
      "execution_count": 17,
      "outputs": [
        {
          "output_type": "stream",
          "name": "stdout",
          "text": [
            "10\n",
            "5\n"
          ]
        }
      ]
    },
    {
      "cell_type": "code",
      "source": [
        "# loop examples"
      ],
      "metadata": {
        "id": "db7OatPf1Abh"
      },
      "execution_count": 18,
      "outputs": []
    },
    {
      "cell_type": "markdown",
      "source": [
        "**loop**\n",
        "- control flow structure that allows you to repeatedly execute a block of code\n",
        "- helps in automating repetitive tasks and iterating over sequences like lists, strings, or ranges\n",
        "- two main types are **'for'** loops and **'while'** loops\n",
        "- essential for iterating through data structures, performing repetitive tasks, and controlling the flow of a program"
      ],
      "metadata": {
        "id": "Cj5JnfRm2I4q"
      }
    },
    {
      "cell_type": "code",
      "source": [
        "# for loops"
      ],
      "metadata": {
        "id": "XN34fldS1cuK"
      },
      "execution_count": 19,
      "outputs": []
    },
    {
      "cell_type": "markdown",
      "source": [
        "The **'for' loop** is used for iterating over a sequence (either a list, tuple, string, or other iterable objects)."
      ],
      "metadata": {
        "id": "w4JlQNVT2ok2"
      }
    },
    {
      "cell_type": "code",
      "source": [
        "fruits = [\"apple\", \"banana\", \"orange\"]\n",
        "\n",
        "for fruit in fruits:  # code to be executed in each iteration\n",
        "    print(fruit)"
      ],
      "metadata": {
        "colab": {
          "base_uri": "https://localhost:8080/"
        },
        "id": "IF5-xN_y23Zc",
        "outputId": "e68f9e8f-f48d-4db9-f847-514a167717c3"
      },
      "execution_count": 20,
      "outputs": [
        {
          "output_type": "stream",
          "name": "stdout",
          "text": [
            "apple\n",
            "banana\n",
            "orange\n"
          ]
        }
      ]
    },
    {
      "cell_type": "markdown",
      "source": [
        "In this example, **'fruit'** takes on the values of the elements in the sequence **'fruits'** during each iteration"
      ],
      "metadata": {
        "id": "_LwwnMbQ26xy"
      }
    },
    {
      "cell_type": "code",
      "source": [
        "# while loops"
      ],
      "metadata": {
        "id": "tmQyykaY25OU"
      },
      "execution_count": 21,
      "outputs": []
    },
    {
      "cell_type": "markdown",
      "source": [
        "The **'while' loop** is used when a certain block of code needs to be repeated as long as a given condition is true."
      ],
      "metadata": {
        "id": "CQV3so7e3R67"
      }
    },
    {
      "cell_type": "code",
      "source": [
        "count = 0\n",
        "\n",
        "while count < 5:  # code to be executed as long as the condition is true\n",
        "    print(count)\n",
        "    count += 1    # iterate by 1\n",
        "\n",
        "# loop continues to execute until the 'condition' becomes false"
      ],
      "metadata": {
        "colab": {
          "base_uri": "https://localhost:8080/"
        },
        "id": "38ZAHhUb3K2N",
        "outputId": "92a4d5c1-1192-450c-fdf4-022ddc5a4681"
      },
      "execution_count": 22,
      "outputs": [
        {
          "output_type": "stream",
          "name": "stdout",
          "text": [
            "0\n",
            "1\n",
            "2\n",
            "3\n",
            "4\n"
          ]
        }
      ]
    },
    {
      "cell_type": "code",
      "source": [
        "# loop control statements"
      ],
      "metadata": {
        "id": "dFOkigBE3o_u"
      },
      "execution_count": 23,
      "outputs": []
    },
    {
      "cell_type": "markdown",
      "source": [
        "**loop control statements** like 'break' and 'continue' modify the behaviors of loops\n",
        "- **'break'** - terminates the loop prematurely when a certain condition is met\n",
        "- **'continue'** - skips the rest of the code in the current iteration and moves to the next iteration"
      ],
      "metadata": {
        "id": "HVGpqlN839Uc"
      }
    },
    {
      "cell_type": "code",
      "source": [
        "numbers = [1, 2, 3, 4, 5]\n",
        "\n",
        "for number in numbers:\n",
        "    if number == 4:\n",
        "        break\n",
        "    print(number)"
      ],
      "metadata": {
        "colab": {
          "base_uri": "https://localhost:8080/"
        },
        "id": "Lu5sabQL372I",
        "outputId": "31c2aa66-f9cb-41de-d58c-5d5f3608b098"
      },
      "execution_count": 24,
      "outputs": [
        {
          "output_type": "stream",
          "name": "stdout",
          "text": [
            "1\n",
            "2\n",
            "3\n"
          ]
        }
      ]
    },
    {
      "cell_type": "code",
      "source": [
        "numbers = [1, 2, 3, 4, 5]\n",
        "\n",
        "for number in numbers:\n",
        "    if number == 3:\n",
        "        continue\n",
        "    print(number)"
      ],
      "metadata": {
        "colab": {
          "base_uri": "https://localhost:8080/"
        },
        "id": "x6P8pCmy4g0N",
        "outputId": "02cdaeb2-f7ad-4aac-8631-b3f5be1a417c"
      },
      "execution_count": 25,
      "outputs": [
        {
          "output_type": "stream",
          "name": "stdout",
          "text": [
            "1\n",
            "2\n",
            "4\n",
            "5\n"
          ]
        }
      ]
    },
    {
      "cell_type": "code",
      "source": [
        "# fundamentals of object-oriented programming (OOP)"
      ],
      "metadata": {
        "id": "I7B00FCV4m-H"
      },
      "execution_count": 26,
      "outputs": []
    },
    {
      "cell_type": "markdown",
      "source": [
        "**object-oriented programming (OOP)** - programming paradigm that uses objects, which are instances of classes, to organize code\n",
        "- classes, class instances, member functions, and member variables"
      ],
      "metadata": {
        "id": "QKO1SgCt4_xn"
      }
    },
    {
      "cell_type": "code",
      "source": [
        "# classes"
      ],
      "metadata": {
        "id": "iJHdnNDo42VS"
      },
      "execution_count": 27,
      "outputs": []
    },
    {
      "cell_type": "markdown",
      "source": [
        "**class**\n",
        "- a blueprint or template for creating objects\n",
        "- objects are instances of classes\n",
        "- classes define the properties/structure (attributes) and behaviors (methods) of objects\n",
        "- encapsulates the data and functionality into a single unit\n",
        "- objects represent real-world entities and encapsulate both data and the methods that operate on the data\n",
        "- create an object based on a class --> creating an instance of that class\n",
        "- each instance has its own unique attributes and can execute the methods defined in the class"
      ],
      "metadata": {
        "id": "YwhwTdsL6Em-"
      }
    },
    {
      "cell_type": "code",
      "source": [
        "# classes and objects\n",
        "class Dog:\n",
        "\n",
        "    def __init__(self, name, age):\n",
        "        self.name = name\n",
        "        self.age = age\n",
        "\n",
        "    def bark(self):\n",
        "        print(f\"{self.name} says Woof!\")\n",
        "\n",
        "# Creating objects\n",
        "dog1 = Dog(\"Buddy\", 3)\n",
        "dog2 = Dog(\"Max\", 5)\n",
        "\n",
        "# Accessing attributes and calling methods\n",
        "print(dog1.name)  # Output: Buddy\n",
        "dog2.bark()       # Output: Max says Woof!"
      ],
      "metadata": {
        "colab": {
          "base_uri": "https://localhost:8080/"
        },
        "id": "aiBiu8-r6fRD",
        "outputId": "3cffc3b4-0c56-4f4c-831a-6fd9761f10b6"
      },
      "execution_count": 28,
      "outputs": [
        {
          "output_type": "stream",
          "name": "stdout",
          "text": [
            "Buddy\n",
            "Max says Woof!\n"
          ]
        }
      ]
    },
    {
      "cell_type": "markdown",
      "source": [
        "**attributes**\n",
        "- variables that store data within a class\n",
        "- represent the characterisitcs of objects"
      ],
      "metadata": {
        "id": "ZKfrfIDZ7krS"
      }
    },
    {
      "cell_type": "markdown",
      "source": [
        "**methods**\n",
        "- functions defined within a class\n",
        "- define the behavior of objects"
      ],
      "metadata": {
        "id": "hesRhUNk73qz"
      }
    },
    {
      "cell_type": "code",
      "source": [
        "class Circle:\n",
        "    def __init__(self, radius):\n",
        "        self.radius = radius\n",
        "\n",
        "    def area(self):\n",
        "        return 3.14 * self.radius ** 2\n",
        "\n",
        "# Creating an object\n",
        "circle = Circle(5)\n",
        "\n",
        "# Accessing attribute and calling method\n",
        "print(circle.radius)  # Output: 5\n",
        "print(circle.area())   # Output: 78.5"
      ],
      "metadata": {
        "colab": {
          "base_uri": "https://localhost:8080/"
        },
        "id": "JnG1kf_57cZe",
        "outputId": "4a9f9f73-72d0-419e-feac-1785e0ba3ca5"
      },
      "execution_count": 29,
      "outputs": [
        {
          "output_type": "stream",
          "name": "stdout",
          "text": [
            "5\n",
            "78.5\n"
          ]
        }
      ]
    },
    {
      "cell_type": "markdown",
      "source": [
        "__init__\n",
        "- method is a special method in a class that is called when an object is created\n",
        "- it initializes the object's attributes"
      ],
      "metadata": {
        "id": "1hF9STZmu3Hl"
      }
    },
    {
      "cell_type": "code",
      "source": [
        "class Car:\n",
        "    def __init__(self, make, model):\n",
        "        self.make = make\n",
        "        self.model = model\n",
        "\n",
        "# Creating an object\n",
        "car = Car(\"Toyota\", \"Camry\")\n",
        "\n",
        "# Accessing attributes\n",
        "print(car.make)    # Output: Toyota\n",
        "print(car.model)   # Output: Camry"
      ],
      "metadata": {
        "colab": {
          "base_uri": "https://localhost:8080/"
        },
        "id": "E7grBec_79jD",
        "outputId": "dc97c1c1-4406-4f35-ce9b-1728285a8a56"
      },
      "execution_count": 30,
      "outputs": [
        {
          "output_type": "stream",
          "name": "stdout",
          "text": [
            "Toyota\n",
            "Camry\n"
          ]
        }
      ]
    },
    {
      "cell_type": "markdown",
      "source": [
        "**inheritance**\n",
        "- allows a class (subclass or derived class) to inherit the attributes and methods of another class (base class or parent class)"
      ],
      "metadata": {
        "id": "Ov3aBNsXvqKm"
      }
    },
    {
      "cell_type": "code",
      "source": [
        "class Animal:\n",
        "    def speak(self):\n",
        "        pass\n",
        "\n",
        "class Dog(Animal):\n",
        "    def speak(self):\n",
        "        print(\"Woof!\")\n",
        "\n",
        "# Creating an object\n",
        "dog = Dog()\n",
        "\n",
        "# Calling method from the base class\n",
        "dog.speak()  # Output: Woof!"
      ],
      "metadata": {
        "colab": {
          "base_uri": "https://localhost:8080/"
        },
        "id": "asZVNVfevjDH",
        "outputId": "0d0e4c14-797c-48f2-fac2-31e4a59783d4"
      },
      "execution_count": 31,
      "outputs": [
        {
          "output_type": "stream",
          "name": "stdout",
          "text": [
            "Woof!\n"
          ]
        }
      ]
    },
    {
      "cell_type": "markdown",
      "source": [
        "**encapsulation**\n",
        "- is the concept of restricting access to certain attributes and methods\n",
        "- it helps in hiding the internal details of a class from the outside world"
      ],
      "metadata": {
        "id": "bhZ6s-NyvzkR"
      }
    },
    {
      "cell_type": "code",
      "source": [
        "class BankAccount:\n",
        "    def __init__(self, balance):\n",
        "        self._balance = balance  # Using a single underscore for a protected attribute\n",
        "\n",
        "    def get_balance(self):\n",
        "        return self._balance\n",
        "\n",
        "# Creating an object\n",
        "account = BankAccount(1000)\n",
        "\n",
        "# Accessing attribute through a method\n",
        "print(account.get_balance())  # Output: 1000"
      ],
      "metadata": {
        "colab": {
          "base_uri": "https://localhost:8080/"
        },
        "id": "k_RV-9FovtA-",
        "outputId": "e2824984-8f74-4850-b590-30c758e6fd57"
      },
      "execution_count": 32,
      "outputs": [
        {
          "output_type": "stream",
          "name": "stdout",
          "text": [
            "1000\n"
          ]
        }
      ]
    },
    {
      "cell_type": "markdown",
      "source": [
        "**polymorphism**\n",
        "- allows objects of different classes to be treated as objects of a common base class\n",
        "- it involves the ability of a method to do different things based on the object it is acting upon"
      ],
      "metadata": {
        "id": "3CP8Zng4wALl"
      }
    },
    {
      "cell_type": "code",
      "source": [
        "class Cat(Animal):\n",
        "    def speak(self):\n",
        "        print(\"Meow!\")\n",
        "\n",
        "# Creating objects of different classes\n",
        "dog = Dog()\n",
        "cat = Cat()\n",
        "\n",
        "# Polymorphic behavior\n",
        "for animal in [dog, cat]:\n",
        "    animal.speak()"
      ],
      "metadata": {
        "colab": {
          "base_uri": "https://localhost:8080/"
        },
        "id": "9PCpDBJ2v3K-",
        "outputId": "58e3cea0-4415-4d9e-db3e-14d7eb690d50"
      },
      "execution_count": 33,
      "outputs": [
        {
          "output_type": "stream",
          "name": "stdout",
          "text": [
            "Woof!\n",
            "Meow!\n"
          ]
        }
      ]
    },
    {
      "cell_type": "code",
      "source": [
        "# class instances"
      ],
      "metadata": {
        "id": "FjVxy0zJwbMP"
      },
      "execution_count": 34,
      "outputs": []
    },
    {
      "cell_type": "markdown",
      "source": [
        "**class instances** (or objects)\n",
        "- specific ocurances or examples of a class\n",
        "- instances are created by calling the class as if it were a function --> known as instantiation\n",
        "- The __init__ method, if defined in the class, is automatically called during instantiation to initialize the attributes of the instance"
      ],
      "metadata": {
        "id": "LIrDMJzEwaM9"
      }
    },
    {
      "cell_type": "code",
      "source": [
        "class Car:\n",
        "    def __init__(self, make, model, year):\n",
        "        self.make = make\n",
        "        self.model = model\n",
        "        self.year = year\n",
        "\n",
        "# Creating instances (objects) of the Car class\n",
        "my_car = Car(\"Toyota\", \"Camry\", 2022)\n",
        "another_car = Car(\"Honda\", \"Civic\", 2023)"
      ],
      "metadata": {
        "id": "ZoQz1sKhwErJ"
      },
      "execution_count": 35,
      "outputs": []
    },
    {
      "cell_type": "markdown",
      "source": [
        "**attributes of instances**\n",
        "- each instance has its own set of attributes, which are defined in the class but are specific to that instance\n",
        "- attributes can be accessed using dot notation"
      ],
      "metadata": {
        "id": "DwrGo4zUxe8s"
      }
    },
    {
      "cell_type": "code",
      "source": [
        "print(my_car.make)    # Output: Toyota\n",
        "print(another_car.year)  # Output: 2023"
      ],
      "metadata": {
        "colab": {
          "base_uri": "https://localhost:8080/"
        },
        "id": "zhMEAup0xZgB",
        "outputId": "a83ab406-a4a3-464e-b013-06634c4cb1d1"
      },
      "execution_count": 36,
      "outputs": [
        {
          "output_type": "stream",
          "name": "stdout",
          "text": [
            "Toyota\n",
            "2023\n"
          ]
        }
      ]
    },
    {
      "cell_type": "markdown",
      "source": [
        "**methods of instances**\n",
        "- instances can execute methods defined in the class\n",
        "- the methods may use the instance's attributes to perform specific actions"
      ],
      "metadata": {
        "id": "4-8vXh-8xsK8"
      }
    },
    {
      "cell_type": "code",
      "source": [
        "class Car:\n",
        "    def __init__(self, make, model, year):\n",
        "        self.make = make\n",
        "        self.model = model\n",
        "        self.year = year\n",
        "\n",
        "    def start_engine(self):\n",
        "        print(f\"The {self.year} {self.make} {self.model}'s engine is running.\")\n",
        "\n",
        "# Creating an instance and calling a method\n",
        "my_car = Car(\"Toyota\", \"Camry\", 2022)\n",
        "my_car.start_engine()  # Output: The 2022 Toyota Camry's engine is running."
      ],
      "metadata": {
        "colab": {
          "base_uri": "https://localhost:8080/"
        },
        "id": "7EEdlDv0xn8z",
        "outputId": "eaa2f24b-4b78-4257-b1b2-5e9a8ea3ea87"
      },
      "execution_count": 37,
      "outputs": [
        {
          "output_type": "stream",
          "name": "stdout",
          "text": [
            "The 2022 Toyota Camry's engine is running.\n"
          ]
        }
      ]
    },
    {
      "cell_type": "markdown",
      "source": [
        "In this example, the start_engine method is called on the my_car instance."
      ],
      "metadata": {
        "id": "MqYtNa5Fx9xz"
      }
    },
    {
      "cell_type": "markdown",
      "source": [
        "**multiple instances**\n",
        "- you can create multiple instances of the same class, each with its own unique set of attributes"
      ],
      "metadata": {
        "id": "5PXcBDh3yCIu"
      }
    },
    {
      "cell_type": "code",
      "source": [
        "# car1 and car2 are additional instances of the Car class\n",
        "car1 = Car(\"Ford\", \"Mustang\", 2021)\n",
        "car2 = Car(\"Chevrolet\", \"Cruze\", 2020)"
      ],
      "metadata": {
        "id": "ChiRkBOmxz-D"
      },
      "execution_count": 38,
      "outputs": []
    },
    {
      "cell_type": "markdown",
      "source": [
        "**class instances**\n",
        "- allow you to work with individual objects, each maintaining its own state and behavior based on the class definition\n",
        "- they are essential for modeling and interacting with real-world entities in a program"
      ],
      "metadata": {
        "id": "A8wEf-sLySzB"
      }
    },
    {
      "cell_type": "code",
      "source": [
        "# member functions"
      ],
      "metadata": {
        "id": "O-qhSxlIyH5A"
      },
      "execution_count": 39,
      "outputs": []
    },
    {
      "cell_type": "markdown",
      "source": [
        "**member functions (methods)**\n",
        "- member functions, commonly known as methods, are functions that are associated with a class or an object\n",
        "- they define the behavior of the class and are called on instances (objects) of that class\n",
        "- methods operate on the data (attributes) of the class and encapsulate the functionality that the class provides\n",
        "- methods are defined within a class using the **'def'** keyword\n",
        "- first parameter of a method is typically named **'self'** and refers to the instnace of the class, which allows the method to access and modify the attributes of the instnace"
      ],
      "metadata": {
        "id": "ti5OQpw8yer4"
      }
    },
    {
      "cell_type": "code",
      "source": [
        "class MyClass:\n",
        "    def my_method(self):\n",
        "        # Code for the method\n",
        "        print(\"This is a member function.\")"
      ],
      "metadata": {
        "id": "uCic_OqeyVgz"
      },
      "execution_count": 40,
      "outputs": []
    },
    {
      "cell_type": "markdown",
      "source": [
        "**methods**\n",
        "- are called on instances of the class, and the instance is passed as the first argument (**'self'**) implicitly"
      ],
      "metadata": {
        "id": "XQwXd67ZpBaK"
      }
    },
    {
      "cell_type": "code",
      "source": [
        "obj = MyClass()\n",
        "obj.my_method()  # Calling the member function"
      ],
      "metadata": {
        "colab": {
          "base_uri": "https://localhost:8080/"
        },
        "id": "fCx4BNifo7uj",
        "outputId": "9181472b-8ef6-4478-a7fb-cdfaf8bfd06a"
      },
      "execution_count": 41,
      "outputs": [
        {
          "output_type": "stream",
          "name": "stdout",
          "text": [
            "This is a member function.\n"
          ]
        }
      ]
    },
    {
      "cell_type": "markdown",
      "source": [
        "**methods** can access and modify the attributes of the class using the **'self'** parameter"
      ],
      "metadata": {
        "id": "IKl0g0b3peIB"
      }
    },
    {
      "cell_type": "code",
      "source": [
        "class MyClass:\n",
        "    def __init__(self, attribute):    # reminder: special method in a class that is called when an object is created - it initializes the object's attributes\n",
        "        self.attribute = attribute\n",
        "\n",
        "    def print_attribute(self):\n",
        "        print(\"Attribute:\", self.attribute)\n",
        "\n",
        "obj = MyClass(\"Value\")\n",
        "obj.print_attribute()  # Output: Attribute: Value"
      ],
      "metadata": {
        "colab": {
          "base_uri": "https://localhost:8080/"
        },
        "id": "D3Z5uVG5pAcy",
        "outputId": "8a0e1440-5322-44c1-c20a-bd2ef84a00a0"
      },
      "execution_count": 42,
      "outputs": [
        {
          "output_type": "stream",
          "name": "stdout",
          "text": [
            "Attribute: Value\n"
          ]
        }
      ]
    },
    {
      "cell_type": "markdown",
      "source": [
        "**instance-specific behavior:**\n",
        "- **methods** can perform actions specific to the instance they are called on\n",
        "- they encapsulate the behavior associated with the class"
      ],
      "metadata": {
        "id": "3Y_Dt07Apw8v"
      }
    },
    {
      "cell_type": "code",
      "source": [
        "class Dog:\n",
        "    def __init__(self, name):\n",
        "        self.name = name\n",
        "\n",
        "    def bark(self):\n",
        "        print(f\"{self.name} says Woof!\")\n",
        "\n",
        "my_dog = Dog(\"Buddy\")\n",
        "my_dog.bark()  # Output: Buddy says Woof!"
      ],
      "metadata": {
        "colab": {
          "base_uri": "https://localhost:8080/"
        },
        "id": "RtkZV-WypkL4",
        "outputId": "d87c8a86-534e-4d0c-9619-d1e0786be010"
      },
      "execution_count": 43,
      "outputs": [
        {
          "output_type": "stream",
          "name": "stdout",
          "text": [
            "Buddy says Woof!\n"
          ]
        }
      ]
    },
    {
      "cell_type": "markdown",
      "source": [
        "In the above example, bark is a **member function (method)** of the Dog class."
      ],
      "metadata": {
        "id": "V3Q3FzflqAWH"
      }
    },
    {
      "cell_type": "code",
      "source": [
        "# member variables"
      ],
      "metadata": {
        "id": "GGNh9O-uqLCK"
      },
      "execution_count": 44,
      "outputs": []
    },
    {
      "cell_type": "markdown",
      "source": [
        "**member variables** - aka **attributes** or **instance variables**\n",
        "- are associated with instances (objects) of a class\n",
        "- represent the properties or characteristics of the objects\n",
        "- each instance of the class has its own set of instance variables"
      ],
      "metadata": {
        "id": "OzxPvBzpqa9B"
      }
    },
    {
      "cell_type": "code",
      "source": [
        "# instance variable"
      ],
      "metadata": {
        "id": "INst9shDqMaA"
      },
      "execution_count": 45,
      "outputs": []
    },
    {
      "cell_type": "markdown",
      "source": [
        "- defined within the class and are prefixed with **'self.'**  to indicate that they belong to the instance  "
      ],
      "metadata": {
        "id": "dO7Qmg-QrcQV"
      }
    },
    {
      "cell_type": "code",
      "source": [
        "class MyClass:\n",
        "    def __init__(self, attribute1, attribute2):\n",
        "        self.attribute1 = attribute1  # instance variable\n",
        "        self.attribute2 = attribute2"
      ],
      "metadata": {
        "id": "-KK5tX9Trbof"
      },
      "execution_count": 46,
      "outputs": []
    },
    {
      "cell_type": "markdown",
      "source": [
        "In this example, **attribute1** and **attribute2** are instance variables of the **'MyClass'** class."
      ],
      "metadata": {
        "id": "TYOKAp2nrr86"
      }
    },
    {
      "cell_type": "code",
      "source": [
        "# accessing instance variables"
      ],
      "metadata": {
        "id": "rTHn4vCJrpL5"
      },
      "execution_count": 47,
      "outputs": []
    },
    {
      "cell_type": "markdown",
      "source": [
        "**instance variables** can be accessed and modified using dot notation with the instance of the class"
      ],
      "metadata": {
        "id": "tNPDPXp6r2Ex"
      }
    },
    {
      "cell_type": "code",
      "source": [
        "obj = MyClass(\"Value1\", \"Value2\")\n",
        "print(obj.attribute1)  # Output: Value1\n",
        "print(obj.attribute2)  # Output: Value2"
      ],
      "metadata": {
        "colab": {
          "base_uri": "https://localhost:8080/"
        },
        "id": "3CHXG4vnrvxK",
        "outputId": "930e00b1-dfab-4b79-92e6-ec62bcc42a28"
      },
      "execution_count": 48,
      "outputs": [
        {
          "output_type": "stream",
          "name": "stdout",
          "text": [
            "Value1\n",
            "Value2\n"
          ]
        }
      ]
    },
    {
      "cell_type": "code",
      "source": [
        "# instance-specific data"
      ],
      "metadata": {
        "id": "j8xeDkGFr8lq"
      },
      "execution_count": 49,
      "outputs": []
    },
    {
      "cell_type": "markdown",
      "source": [
        "- each instance of the class has its own set of values for the instance variables\n",
        "- these values can be different for different instances"
      ],
      "metadata": {
        "id": "ysgbk6S1r7SQ"
      }
    },
    {
      "cell_type": "code",
      "source": [
        "obj1 = MyClass(\"First\", \"Instance\")\n",
        "obj2 = MyClass(\"Second\", \"Instance\")\n",
        "\n",
        "print(obj1.attribute1)  # Output: First\n",
        "print(obj2.attribute1)  # Output: Second\n",
        "print(obj1.attribute2)\n",
        "print(obj2.attribute2)"
      ],
      "metadata": {
        "colab": {
          "base_uri": "https://localhost:8080/"
        },
        "id": "oJu_Nk35r6Mt",
        "outputId": "4fbe1000-0e61-4c18-9994-25525a17e562"
      },
      "execution_count": 50,
      "outputs": [
        {
          "output_type": "stream",
          "name": "stdout",
          "text": [
            "First\n",
            "Second\n",
            "Instance\n",
            "Instance\n"
          ]
        }
      ]
    },
    {
      "cell_type": "markdown",
      "source": [
        "Here, **obj1** and **obj2** are two different instances with different values for **'attribute1'**."
      ],
      "metadata": {
        "id": "WM4m0nHXsSVD"
      }
    },
    {
      "cell_type": "code",
      "source": [
        "# use in methods"
      ],
      "metadata": {
        "id": "CJSvFrmOsnlt"
      },
      "execution_count": 51,
      "outputs": []
    },
    {
      "cell_type": "markdown",
      "source": [
        "**instance variables** are often used within the methods (member functions) of the class to perform actions based on the object's data"
      ],
      "metadata": {
        "id": "ncMz0WE-sm8-"
      }
    },
    {
      "cell_type": "code",
      "source": [
        "class Circle:\n",
        "    def __init__(self, radius):\n",
        "        self.radius = radius\n",
        "\n",
        "    def calculate_area(self):\n",
        "        return 3.14 * self.radius ** 2"
      ],
      "metadata": {
        "id": "HIXO7x5SsM8h"
      },
      "execution_count": 52,
      "outputs": []
    },
    {
      "cell_type": "markdown",
      "source": [
        "In this example, **'radius'** is an instance variable used in the **'calculate_area'** method."
      ],
      "metadata": {
        "id": "pPC3uQJ4stVk"
      }
    },
    {
      "cell_type": "markdown",
      "source": [
        "**Instance variables** play a crucial role in defining the state of objects and allow for encapsulation of data within the class. They represent the characteristics or properties that distinguish one instance from another."
      ],
      "metadata": {
        "id": "M0pOEdvls5tU"
      }
    },
    {
      "cell_type": "code",
      "source": [],
      "metadata": {
        "id": "CYPnpfwLttJJ"
      },
      "execution_count": 52,
      "outputs": []
    }
  ]
}